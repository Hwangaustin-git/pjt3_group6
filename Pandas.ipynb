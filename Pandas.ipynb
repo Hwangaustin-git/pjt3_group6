{
 "cells": [
  {
   "cell_type": "code",
   "execution_count": 10,
   "id": "1bf7c97b",
   "metadata": {},
   "outputs": [],
   "source": [
    "import pandas as pd\n",
    "import os\n",
    "from sqlalchemy import create_engine\n",
    "\n",
    "# Path to SQLite database file\n",
    "DATABASE_PATH = \"data/weather_data.sqlite\"\n",
    "DATABASE_URI = f\"sqlite:///{DATABASE_PATH}\""
   ]
  },
  {
   "cell_type": "code",
   "execution_count": 11,
   "id": "0435270e",
   "metadata": {},
   "outputs": [],
   "source": [
    "# Paths to CSV files\n",
    "csv1_path = \"data/PostgreSQL.csv\"\n",
    "csv2_path = \"data/PostgreSQL_weatherdata.csv\""
   ]
  },
  {
   "cell_type": "code",
   "execution_count": 12,
   "id": "93e210f7",
   "metadata": {},
   "outputs": [],
   "source": [
    "# Load CSV files\n",
    "data1 = pd.read_csv(csv1_path)\n",
    "data2 = pd.read_csv(csv2_path)"
   ]
  },
  {
   "cell_type": "code",
   "execution_count": 13,
   "id": "9876a48c",
   "metadata": {},
   "outputs": [],
   "source": [
    "# Data Cleaning and Transformation\n",
    "data1_cleaned = data1.dropna()\n",
    "data2_cleaned = data2.dropna()"
   ]
  },
  {
   "cell_type": "code",
   "execution_count": 14,
   "id": "12b1dfaf",
   "metadata": {},
   "outputs": [],
   "source": [
    "# Combine datasets (if needed)\n",
    "weather_data = pd.concat([data1_cleaned, data2_cleaned], ignore_index=True)"
   ]
  },
  {
   "cell_type": "code",
   "execution_count": 15,
   "id": "b081f32f",
   "metadata": {},
   "outputs": [],
   "source": [
    "# Rename columns for consistency\n",
    "weather_data.rename(columns={\n",
    "    \"temperature_celsius\": \"temp_c\",\n",
    "    \"temperature_fahrenheit\": \"temp_f\"\n",
    "}, inplace=True)"
   ]
  },
  {
   "cell_type": "code",
   "execution_count": 16,
   "id": "fe2748d2",
   "metadata": {},
   "outputs": [
    {
     "name": "stdout",
     "output_type": "stream",
     "text": [
      "Data loaded into SQLite database at data/weather_data.sqlite successfully.\n"
     ]
    }
   ],
   "source": [
    "# Create SQLite database and load data into it\n",
    "engine = create_engine(DATABASE_URI)\n",
    "weather_data.to_sql(\"weather_data\", engine, if_exists=\"replace\", index=False)\n",
    "\n",
    "print(f\"Data loaded into SQLite database at {DATABASE_PATH} successfully.\")"
   ]
  }
 ],
 "metadata": {
  "kernelspec": {
   "display_name": "Dev",
   "language": "python",
   "name": "dev"
  },
  "language_info": {
   "codemirror_mode": {
    "name": "ipython",
    "version": 3
   },
   "file_extension": ".py",
   "mimetype": "text/x-python",
   "name": "python",
   "nbconvert_exporter": "python",
   "pygments_lexer": "ipython3",
   "version": "3.10.14"
  }
 },
 "nbformat": 4,
 "nbformat_minor": 5
}
