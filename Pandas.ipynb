{
 "cells": [
  {
   "cell_type": "code",
   "execution_count": 1,
   "id": "1bf7c97b",
   "metadata": {},
   "outputs": [],
   "source": [
    "import pandas as pd\n",
    "import matplotlib.pyplot as plt\n",
    "import matplotlib as mpl\n",
    "import numpy as np\n",
    "import seaborn as sns\n",
    "import geopandas as gpd\n",
    "\n",
    "# create path to CSV files\n",
    "csv1_path = \"data/PostgreSQL.csv\"\n",
    "csv2_path = \"data/PostgreSQL_weatherdata.csv\""
   ]
  },
  {
   "cell_type": "code",
   "execution_count": null,
   "id": "0435270e",
   "metadata": {},
   "outputs": [],
   "source": [
    "# PostgreSQL connection string\n"
   ]
  },
  {
   "cell_type": "code",
   "execution_count": null,
   "id": "93e210f7",
   "metadata": {},
   "outputs": [],
   "source": [
    "# read in csv "
   ]
  },
  {
   "cell_type": "code",
   "execution_count": null,
   "id": "9876a48c",
   "metadata": {},
   "outputs": [],
   "source": [
    "# clean data "
   ]
  },
  {
   "cell_type": "code",
   "execution_count": null,
   "id": "12b1dfaf",
   "metadata": {},
   "outputs": [],
   "source": [
    "# create data frame "
   ]
  },
  {
   "cell_type": "code",
   "execution_count": null,
   "id": "fe2748d2",
   "metadata": {},
   "outputs": [],
   "source": [
    "# create visualization"
   ]
  }
 ],
 "metadata": {
  "kernelspec": {
   "display_name": "Dev",
   "language": "python",
   "name": "dev"
  },
  "language_info": {
   "codemirror_mode": {
    "name": "ipython",
    "version": 3
   },
   "file_extension": ".py",
   "mimetype": "text/x-python",
   "name": "python",
   "nbconvert_exporter": "python",
   "pygments_lexer": "ipython3",
   "version": "3.10.14"
  }
 },
 "nbformat": 4,
 "nbformat_minor": 5
}
